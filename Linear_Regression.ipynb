{
  "nbformat": 4,
  "nbformat_minor": 0,
  "metadata": {
    "colab": {
      "provenance": [],
      "authorship_tag": "ABX9TyMFw+V52R7m9IhUqu1cHGvw",
      "include_colab_link": true
    },
    "kernelspec": {
      "name": "python3",
      "display_name": "Python 3"
    },
    "language_info": {
      "name": "python"
    }
  },
  "cells": [
    {
      "cell_type": "markdown",
      "metadata": {
        "id": "view-in-github",
        "colab_type": "text"
      },
      "source": [
        "<a href=\"https://colab.research.google.com/github/Enamul-Hoq/Coucoursera/blob/master/Linear_Regression.ipynb\" target=\"_parent\"><img src=\"https://colab.research.google.com/assets/colab-badge.svg\" alt=\"Open In Colab\"/></a>"
      ]
    },
    {
      "cell_type": "code",
      "execution_count": 5,
      "metadata": {
        "id": "rWM-IZcukduq"
      },
      "outputs": [],
      "source": [
        "import tensorflow as tf"
      ]
    },
    {
      "cell_type": "code",
      "source": [
        "import pandas as pd\n",
        "import numpy as np\n",
        "import matplotlib.pyplot as plt\n"
      ],
      "metadata": {
        "id": "ZLF89ULzk1FF"
      },
      "execution_count": 6,
      "outputs": []
    },
    {
      "cell_type": "code",
      "source": [
        "!wget https://raw.githubusercontent.com/lazyprogrammer/machine_learning_examples/master/tf2.0/moore.csv"
      ],
      "metadata": {
        "colab": {
          "base_uri": "https://localhost:8080/"
        },
        "id": "cp5eFtzIk_lD",
        "outputId": "e7affdf3-597b-4b53-a810-22dcee10577a"
      },
      "execution_count": 7,
      "outputs": [
        {
          "output_type": "stream",
          "name": "stdout",
          "text": [
            "--2023-02-24 17:51:54--  https://raw.githubusercontent.com/lazyprogrammer/machine_learning_examples/master/tf2.0/moore.csv\n",
            "Resolving raw.githubusercontent.com (raw.githubusercontent.com)... 185.199.108.133, 185.199.109.133, 185.199.110.133, ...\n",
            "Connecting to raw.githubusercontent.com (raw.githubusercontent.com)|185.199.108.133|:443... connected.\n",
            "HTTP request sent, awaiting response... 200 OK\n",
            "Length: 2302 (2.2K) [text/plain]\n",
            "Saving to: ‘moore.csv.1’\n",
            "\n",
            "\rmoore.csv.1           0%[                    ]       0  --.-KB/s               \rmoore.csv.1         100%[===================>]   2.25K  --.-KB/s    in 0s      \n",
            "\n",
            "2023-02-24 17:51:54 (26.3 MB/s) - ‘moore.csv.1’ saved [2302/2302]\n",
            "\n"
          ]
        }
      ]
    },
    {
      "cell_type": "code",
      "source": [
        "!head moore.csv\n",
        "data=pd.read_csv('moore.csv', header=None).to_numpy()"
      ],
      "metadata": {
        "colab": {
          "base_uri": "https://localhost:8080/"
        },
        "id": "G0z8dyZVofj2",
        "outputId": "e7b39140-4f10-44db-b2e2-64b063656528"
      },
      "execution_count": 8,
      "outputs": [
        {
          "output_type": "stream",
          "name": "stdout",
          "text": [
            "1971,2300\n",
            "1972,3500\n",
            "1973,2500\n",
            "1973,2500\n",
            "1974,4100\n",
            "1974,4500\n",
            "1974,8000\n",
            "1975,3510\n",
            "1976,5000\n",
            "1976,8500\n"
          ]
        }
      ]
    },
    {
      "cell_type": "code",
      "source": [
        "data"
      ],
      "metadata": {
        "colab": {
          "base_uri": "https://localhost:8080/"
        },
        "id": "QIe8EHH-pVWK",
        "outputId": "0992da5e-d0df-4c3e-cb0e-101a2a34a783"
      },
      "execution_count": 9,
      "outputs": [
        {
          "output_type": "execute_result",
          "data": {
            "text/plain": [
              "array([[       1971,        2300],\n",
              "       [       1972,        3500],\n",
              "       [       1973,        2500],\n",
              "       [       1973,        2500],\n",
              "       [       1974,        4100],\n",
              "       [       1974,        4500],\n",
              "       [       1974,        8000],\n",
              "       [       1975,        3510],\n",
              "       [       1976,        5000],\n",
              "       [       1976,        8500],\n",
              "       [       1976,        6500],\n",
              "       [       1978,        9000],\n",
              "       [       1978,       29000],\n",
              "       [       1979,       17500],\n",
              "       [       1979,       29000],\n",
              "       [       1979,       68000],\n",
              "       [       1981,       11500],\n",
              "       [       1982,       55000],\n",
              "       [       1982,      134000],\n",
              "       [       1983,       22000],\n",
              "       [       1984,       63000],\n",
              "       [       1984,      190000],\n",
              "       [       1985,      275000],\n",
              "       [       1985,       25000],\n",
              "       [       1985,       16000],\n",
              "       [       1986,      110000],\n",
              "       [       1986,      375000],\n",
              "       [       1986,       30000],\n",
              "       [       1987,      385000],\n",
              "       [       1987,      730000],\n",
              "       [       1987,      273000],\n",
              "       [       1987,      553000],\n",
              "       [       1988,      180000],\n",
              "       [       1988,      250000],\n",
              "       [       1989,      600000],\n",
              "       [       1989,     1000000],\n",
              "       [       1989,     1180235],\n",
              "       [       1989,      310000],\n",
              "       [       1990,     1200000],\n",
              "       [       1991,     1350000],\n",
              "       [       1991,       35000],\n",
              "       [       1992,      600000],\n",
              "       [       1992,      900000],\n",
              "       [       1993,     2800000],\n",
              "       [       1993,     3100000],\n",
              "       [       1994,      578977],\n",
              "       [       1994,     2500000],\n",
              "       [       1995,     2500000],\n",
              "       [       1999,      111000],\n",
              "       [       1995,     5500000],\n",
              "       [       1996,     4300000],\n",
              "       [       1997,    10000000],\n",
              "       [       1997,     7500000],\n",
              "       [       1997,     8800000],\n",
              "       [       1998,     7500000],\n",
              "       [       1999,     9500000],\n",
              "       [       1999,    13500000],\n",
              "       [       2000,    21000000],\n",
              "       [       2000,    21000000],\n",
              "       [       1999,    27400000],\n",
              "       [       1999,    21300000],\n",
              "       [       1999,    22000000],\n",
              "       [       2000,    42000000],\n",
              "       [       2001,   191000000],\n",
              "       [       2001,    45000000],\n",
              "       [       2002,    55000000],\n",
              "       [       2004,   112000000],\n",
              "       [       2004,   400000000],\n",
              "       [       2005,   169000000],\n",
              "       [       2006,   184000000],\n",
              "       [       2005,   228000000],\n",
              "       [       2006,   362000000],\n",
              "       [       2007,   540000000],\n",
              "       [       2008,    47000000],\n",
              "       [       2003,    54300000],\n",
              "       [       2003,   105900000],\n",
              "       [       2002,   220000000],\n",
              "       [       2005,   165000000],\n",
              "       [       2005,   250000000],\n",
              "       [       2006,   291000000],\n",
              "       [       2007,   169000000],\n",
              "       [       2003,   410000000],\n",
              "       [       2008,   600000000],\n",
              "       [       2009,   760000000],\n",
              "       [       2011,  1870000000],\n",
              "       [       2012,   432000000],\n",
              "       [       2007,   463000000],\n",
              "       [       2007,    26000000],\n",
              "       [       2008,   230000000],\n",
              "       [       2004,   592000000],\n",
              "       [       2007,   411000000],\n",
              "       [       2008,   731000000],\n",
              "       [       2008,   758000000],\n",
              "       [       2007,   789000000],\n",
              "       [       2009,   904000000],\n",
              "       [       2010,  1000000000],\n",
              "       [       2012,  2990000000],\n",
              "       [       2013,  1000000000],\n",
              "       [       2011,  1160000000],\n",
              "       [       2010,  1170000000],\n",
              "       [       2010,  1200000000],\n",
              "       [       2012,  1200000000],\n",
              "       [       2012,  1303000000],\n",
              "       [       2010,  1400000000],\n",
              "       [       2012,  1400000000],\n",
              "       [       2014,  1400000000],\n",
              "       [       2006,  1700000000],\n",
              "       [       2015,  1750000000],\n",
              "       [       2013,  1860000000],\n",
              "       [       2015,  1900000000],\n",
              "       [       2008,  1900000000],\n",
              "       [       2010,  2000000000],\n",
              "       [       2014,  2000000000],\n",
              "       [       2015,  2000000000],\n",
              "       [       2015,  3000000000],\n",
              "       [       2012,  2100000000],\n",
              "       [       2011,  2270000000],\n",
              "       [       2010,  2300000000],\n",
              "       [       2014,  2600000000],\n",
              "       [       2011,  2600000000],\n",
              "       [       2012,  2750000000],\n",
              "       [       2014,  3000000000],\n",
              "       [       2016,  3000000000],\n",
              "       [       2017,  5300000000],\n",
              "       [       2017,  5300000000],\n",
              "       [       2018,  8500000000],\n",
              "       [       2012,  3100000000],\n",
              "       [       2016,  3200000000],\n",
              "       [       2016,  3300000000],\n",
              "       [       2015,  3990000000],\n",
              "       [       2013,  4200000000],\n",
              "       [       2017,  4300000000],\n",
              "       [       2014,  4310000000],\n",
              "       [       2017,  4800000000],\n",
              "       [       2017,  4800000000],\n",
              "       [       2017,  4800000000],\n",
              "       [       2012,  5000000000],\n",
              "       [       2013,  5000000000],\n",
              "       [       2014,  5560000000],\n",
              "       [       2017,  6100000000],\n",
              "       [       2018,  6900000000],\n",
              "       [       2016,  4000000000],\n",
              "       [       2018,  6900000000],\n",
              "       [       2017,  5500000000],\n",
              "       [       2018,  5500000000],\n",
              "       [       2017,  7000000000],\n",
              "       [       2015,  7100000000],\n",
              "       [       2017,  8000000000],\n",
              "       [       2016,  7200000000],\n",
              "       [       2017,  8000000000],\n",
              "       [       2016,  8000000000],\n",
              "       [       2017,  9700000000],\n",
              "       [       2017,   250000000],\n",
              "       [       2015, 10000000000],\n",
              "       [       2017,  5450000000],\n",
              "       [       2018, 10000000000],\n",
              "       [       2017,  4300000000],\n",
              "       [       2017, 18000000000],\n",
              "       [       2017, 19200000000],\n",
              "       [       2018,  8876000000],\n",
              "       [       2018, 23600000000],\n",
              "       [       2018,  9000000000]])"
            ]
          },
          "metadata": {},
          "execution_count": 9
        }
      ]
    },
    {
      "cell_type": "code",
      "source": [
        "x= data[:,0].reshape(-1,1)\n",
        "y= data[:,1]"
      ],
      "metadata": {
        "id": "DLslIw9tpaV2"
      },
      "execution_count": 10,
      "outputs": []
    },
    {
      "cell_type": "code",
      "source": [
        "plt.scatter(x,y)"
      ],
      "metadata": {
        "colab": {
          "base_uri": "https://localhost:8080/",
          "height": 293
        },
        "id": "ZMOCxGHCp3Ke",
        "outputId": "9e38e84d-aa46-41ca-bfaa-23c11522cef2"
      },
      "execution_count": 11,
      "outputs": [
        {
          "output_type": "execute_result",
          "data": {
            "text/plain": [
              "<matplotlib.collections.PathCollection at 0x7ff192164fa0>"
            ]
          },
          "metadata": {},
          "execution_count": 11
        },
        {
          "output_type": "display_data",
          "data": {
            "text/plain": [
              "<Figure size 432x288 with 1 Axes>"
            ],
            "image/png": "[encoded data removed]"
          },
          "metadata": {
            "needs_background": "light"
          }
        }
      ]
    },
    {
      "cell_type": "code",
      "source": [
        "y=np.log(y)\n",
        "plt.scatter(x,y)"
      ],
      "metadata": {
        "colab": {
          "base_uri": "https://localhost:8080/",
          "height": 282
        },
        "id": "dPyxbhDPqArI",
        "outputId": "5964e78d-0da7-4ef5-b154-6f9b4ed0dfe0"
      },
      "execution_count": 12,
      "outputs": [
        {
          "output_type": "execute_result",
          "data": {
            "text/plain": [
              "<matplotlib.collections.PathCollection at 0x7ff190062be0>"
            ]
          },
          "metadata": {},
          "execution_count": 12
        },
        {
          "output_type": "display_data",
          "data": {
            "text/plain": [
              "<Figure size 432x288 with 1 Axes>"
            ],
            "image/png": "[encoded data removed]"
          },
          "metadata": {
            "needs_background": "light"
          }
        }
      ]
    },
    {
      "cell_type": "code",
      "source": [
        "x = x-x.mean()"
      ],
      "metadata": {
        "id": "hWqSnSKcqWIX"
      },
      "execution_count": 13,
      "outputs": []
    },
    {
      "cell_type": "code",
      "source": [
        "model = tf.keras.models.Sequential([\n",
        "    tf.keras.layers.Input(shape=(1,)),\n",
        "    tf.keras.layers.Dense(1),\n",
        "])"
      ],
      "metadata": {
        "id": "9HOWAYMcqkcG"
      },
      "execution_count": 14,
      "outputs": []
    },
    {
      "cell_type": "code",
      "source": [
        "model.compile(\n",
        "    optimizer=tf.keras.optimizers.SGD(0.001,0.9),\n",
        "    loss='mse'\n",
        ")"
      ],
      "metadata": {
        "id": "fwnHmUbirNAz"
      },
      "execution_count": 15,
      "outputs": []
    },
    {
      "cell_type": "code",
      "source": [
        "def schedule(epoch,lr):\n",
        "  if epoch >=50:\n",
        "      return 0.0001\n",
        "  return 0.001\n",
        "scheduler = tf.keras.callbacks.LearningRateScheduler(schedule)"
      ],
      "metadata": {
        "id": "YM-VNXR8rri1"
      },
      "execution_count": 16,
      "outputs": []
    },
    {
      "cell_type": "code",
      "source": [
        "r = model.fit(x,y,epochs=200,callbacks=[scheduler])"
      ],
      "metadata": {
        "colab": {
          "base_uri": "https://localhost:8080/"
        },
        "id": "RS0O5cMxsZFK",
        "outputId": "fc50cfd8-de51-41fd-d81d-8e9627e500c8"
      },
      "execution_count": 17,
      "outputs": [
        {
          "output_type": "stream",
          "name": "stdout",
          "text": [
            "Epoch 1/200\n",
            "6/6 [==============================] - 1s 4ms/step - loss: 311.3181 - lr: 0.0010\n",
            "Epoch 2/200\n",
            "6/6 [==============================] - 0s 3ms/step - loss: 282.0086 - lr: 0.0010\n",
            "Epoch 3/200\n",
            "6/6 [==============================] - 0s 3ms/step - loss: 243.3261 - lr: 0.0010\n",
            "Epoch 4/200\n",
            "6/6 [==============================] - 0s 3ms/step - loss: 259.3905 - lr: 0.0010\n",
            "Epoch 5/200\n",
            "6/6 [==============================] - 0s 3ms/step - loss: 164.0902 - lr: 0.0010\n",
            "Epoch 6/200\n",
            "6/6 [==============================] - 0s 3ms/step - loss: 130.6617 - lr: 0.0010\n",
            "Epoch 7/200\n",
            "6/6 [==============================] - 0s 3ms/step - loss: 84.9753 - lr: 0.0010\n",
            "Epoch 8/200\n",
            "6/6 [==============================] - 0s 3ms/step - loss: 62.2032 - lr: 0.0010\n",
            "Epoch 9/200\n",
            "6/6 [==============================] - 0s 3ms/step - loss: 44.7953 - lr: 0.0010\n",
            "Epoch 10/200\n",
            "6/6 [==============================] - 0s 3ms/step - loss: 33.4844 - lr: 0.0010\n",
            "Epoch 11/200\n",
            "6/6 [==============================] - 0s 3ms/step - loss: 30.3538 - lr: 0.0010\n",
            "Epoch 12/200\n",
            "6/6 [==============================] - 0s 3ms/step - loss: 21.7190 - lr: 0.0010\n",
            "Epoch 13/200\n",
            "6/6 [==============================] - 0s 3ms/step - loss: 17.0828 - lr: 0.0010\n",
            "Epoch 14/200\n",
            "6/6 [==============================] - 0s 2ms/step - loss: 11.0238 - lr: 0.0010\n",
            "Epoch 15/200\n",
            "6/6 [==============================] - 0s 3ms/step - loss: 11.0308 - lr: 0.0010\n",
            "Epoch 16/200\n",
            "6/6 [==============================] - 0s 4ms/step - loss: 6.6714 - lr: 0.0010\n",
            "Epoch 17/200\n",
            "6/6 [==============================] - 0s 3ms/step - loss: 10.1081 - lr: 0.0010\n",
            "Epoch 18/200\n",
            "6/6 [==============================] - 0s 4ms/step - loss: 10.9277 - lr: 0.0010\n",
            "Epoch 19/200\n",
            "6/6 [==============================] - 0s 3ms/step - loss: 7.9095 - lr: 0.0010\n",
            "Epoch 20/200\n",
            "6/6 [==============================] - 0s 3ms/step - loss: 17.9379 - lr: 0.0010\n",
            "Epoch 21/200\n",
            "6/6 [==============================] - 0s 3ms/step - loss: 14.4072 - lr: 0.0010\n",
            "Epoch 22/200\n",
            "6/6 [==============================] - 0s 3ms/step - loss: 4.6239 - lr: 0.0010\n",
            "Epoch 23/200\n",
            "6/6 [==============================] - 0s 3ms/step - loss: 8.0691 - lr: 0.0010\n",
            "Epoch 24/200\n",
            "6/6 [==============================] - 0s 3ms/step - loss: 4.5672 - lr: 0.0010\n",
            "Epoch 25/200\n",
            "6/6 [==============================] - 0s 3ms/step - loss: 2.8725 - lr: 0.0010\n",
            "Epoch 26/200\n",
            "6/6 [==============================] - 0s 3ms/step - loss: 3.6940 - lr: 0.0010\n",
            "Epoch 27/200\n",
            "6/6 [==============================] - 0s 3ms/step - loss: 1.2549 - lr: 0.0010\n",
            "Epoch 28/200\n",
            "6/6 [==============================] - 0s 3ms/step - loss: 1.2347 - lr: 0.0010\n",
            "Epoch 29/200\n",
            "6/6 [==============================] - 0s 3ms/step - loss: 1.0567 - lr: 0.0010\n",
            "Epoch 30/200\n",
            "6/6 [==============================] - 0s 3ms/step - loss: 1.0193 - lr: 0.0010\n",
            "Epoch 31/200\n",
            "6/6 [==============================] - 0s 3ms/step - loss: 0.9227 - lr: 0.0010\n",
            "Epoch 32/200\n",
            "6/6 [==============================] - 0s 3ms/step - loss: 0.9293 - lr: 0.0010\n",
            "Epoch 33/200\n",
            "6/6 [==============================] - 0s 3ms/step - loss: 0.9861 - lr: 0.0010\n",
            "Epoch 34/200\n",
            "6/6 [==============================] - 0s 3ms/step - loss: 1.8338 - lr: 0.0010\n",
            "Epoch 35/200\n",
            "6/6 [==============================] - 0s 3ms/step - loss: 1.3460 - lr: 0.0010\n",
            "Epoch 36/200\n",
            "6/6 [==============================] - 0s 3ms/step - loss: 1.3053 - lr: 0.0010\n",
            "Epoch 37/200\n",
            "6/6 [==============================] - 0s 3ms/step - loss: 1.3274 - lr: 0.0010\n",
            "Epoch 38/200\n",
            "6/6 [==============================] - 0s 3ms/step - loss: 1.6191 - lr: 0.0010\n",
            "Epoch 39/200\n",
            "6/6 [==============================] - 0s 3ms/step - loss: 1.6563 - lr: 0.0010\n",
            "Epoch 40/200\n",
            "6/6 [==============================] - 0s 3ms/step - loss: 1.3723 - lr: 0.0010\n",
            "Epoch 41/200\n",
            "6/6 [==============================] - 0s 3ms/step - loss: 1.1134 - lr: 0.0010\n",
            "Epoch 42/200\n",
            "6/6 [==============================] - 0s 5ms/step - loss: 0.9253 - lr: 0.0010\n",
            "Epoch 43/200\n",
            "6/6 [==============================] - 0s 3ms/step - loss: 0.8798 - lr: 0.0010\n",
            "Epoch 44/200\n",
            "6/6 [==============================] - 0s 3ms/step - loss: 0.9104 - lr: 0.0010\n",
            "Epoch 45/200\n",
            "6/6 [==============================] - 0s 3ms/step - loss: 0.9213 - lr: 0.0010\n",
            "Epoch 46/200\n",
            "6/6 [==============================] - 0s 3ms/step - loss: 1.0973 - lr: 0.0010\n",
            "Epoch 47/200\n",
            "6/6 [==============================] - 0s 3ms/step - loss: 1.3137 - lr: 0.0010\n",
            "Epoch 48/200\n",
            "6/6 [==============================] - 0s 3ms/step - loss: 1.0447 - lr: 0.0010\n",
            "Epoch 49/200\n",
            "6/6 [==============================] - 0s 3ms/step - loss: 1.3875 - lr: 0.0010\n",
            "Epoch 50/200\n",
            "6/6 [==============================] - 0s 3ms/step - loss: 1.0922 - lr: 0.0010\n",
            "Epoch 51/200\n",
            "6/6 [==============================] - 0s 3ms/step - loss: 0.8801 - lr: 1.0000e-04\n",
            "Epoch 52/200\n",
            "6/6 [==============================] - 0s 4ms/step - loss: 1.0049 - lr: 1.0000e-04\n",
            "Epoch 53/200\n",
            "6/6 [==============================] - 0s 3ms/step - loss: 0.9886 - lr: 1.0000e-04\n",
            "Epoch 54/200\n",
            "6/6 [==============================] - 0s 3ms/step - loss: 0.8772 - lr: 1.0000e-04\n",
            "Epoch 55/200\n",
            "6/6 [==============================] - 0s 4ms/step - loss: 0.9172 - lr: 1.0000e-04\n",
            "Epoch 56/200\n",
            "6/6 [==============================] - 0s 3ms/step - loss: 0.9403 - lr: 1.0000e-04\n",
            "Epoch 57/200\n",
            "6/6 [==============================] - 0s 3ms/step - loss: 0.8856 - lr: 1.0000e-04\n",
            "Epoch 58/200\n",
            "6/6 [==============================] - 0s 3ms/step - loss: 0.8715 - lr: 1.0000e-04\n",
            "Epoch 59/200\n",
            "6/6 [==============================] - 0s 3ms/step - loss: 0.8717 - lr: 1.0000e-04\n",
            "Epoch 60/200\n",
            "6/6 [==============================] - 0s 3ms/step - loss: 0.8728 - lr: 1.0000e-04\n",
            "Epoch 61/200\n",
            "6/6 [==============================] - 0s 3ms/step - loss: 0.8789 - lr: 1.0000e-04\n",
            "Epoch 62/200\n",
            "6/6 [==============================] - 0s 3ms/step - loss: 0.8703 - lr: 1.0000e-04\n",
            "Epoch 63/200\n",
            "6/6 [==============================] - 0s 3ms/step - loss: 0.8719 - lr: 1.0000e-04\n",
            "Epoch 64/200\n",
            "6/6 [==============================] - 0s 3ms/step - loss: 0.8736 - lr: 1.0000e-04\n",
            "Epoch 65/200\n",
            "6/6 [==============================] - 0s 3ms/step - loss: 0.8706 - lr: 1.0000e-04\n",
            "Epoch 66/200\n",
            "6/6 [==============================] - 0s 3ms/step - loss: 0.8788 - lr: 1.0000e-04\n",
            "Epoch 67/200\n",
            "6/6 [==============================] - 0s 4ms/step - loss: 0.8798 - lr: 1.0000e-04\n",
            "Epoch 68/200\n",
            "6/6 [==============================] - 0s 3ms/step - loss: 0.8747 - lr: 1.0000e-04\n",
            "Epoch 69/200\n",
            "6/6 [==============================] - 0s 3ms/step - loss: 0.8736 - lr: 1.0000e-04\n",
            "Epoch 70/200\n",
            "6/6 [==============================] - 0s 3ms/step - loss: 0.8861 - lr: 1.0000e-04\n",
            "Epoch 71/200\n",
            "6/6 [==============================] - 0s 3ms/step - loss: 0.8778 - lr: 1.0000e-04\n",
            "Epoch 72/200\n",
            "6/6 [==============================] - 0s 3ms/step - loss: 0.8760 - lr: 1.0000e-04\n",
            "Epoch 73/200\n",
            "6/6 [==============================] - 0s 3ms/step - loss: 0.8713 - lr: 1.0000e-04\n",
            "Epoch 74/200\n",
            "6/6 [==============================] - 0s 3ms/step - loss: 0.8712 - lr: 1.0000e-04\n",
            "Epoch 75/200\n",
            "6/6 [==============================] - 0s 3ms/step - loss: 0.8726 - lr: 1.0000e-04\n",
            "Epoch 76/200\n",
            "6/6 [==============================] - 0s 3ms/step - loss: 0.8724 - lr: 1.0000e-04\n",
            "Epoch 77/200\n",
            "6/6 [==============================] - 0s 3ms/step - loss: 0.8713 - lr: 1.0000e-04\n",
            "Epoch 78/200\n",
            "6/6 [==============================] - 0s 4ms/step - loss: 0.8718 - lr: 1.0000e-04\n",
            "Epoch 79/200\n",
            "6/6 [==============================] - 0s 3ms/step - loss: 0.8771 - lr: 1.0000e-04\n",
            "Epoch 80/200\n",
            "6/6 [==============================] - 0s 3ms/step - loss: 0.8759 - lr: 1.0000e-04\n",
            "Epoch 81/200\n",
            "6/6 [==============================] - 0s 5ms/step - loss: 0.8723 - lr: 1.0000e-04\n",
            "Epoch 82/200\n",
            "6/6 [==============================] - 0s 3ms/step - loss: 0.8739 - lr: 1.0000e-04\n",
            "Epoch 83/200\n",
            "6/6 [==============================] - 0s 3ms/step - loss: 0.8735 - lr: 1.0000e-04\n",
            "Epoch 84/200\n",
            "6/6 [==============================] - 0s 3ms/step - loss: 0.9128 - lr: 1.0000e-04\n",
            "Epoch 85/200\n",
            "6/6 [==============================] - 0s 3ms/step - loss: 0.9064 - lr: 1.0000e-04\n",
            "Epoch 86/200\n",
            "6/6 [==============================] - 0s 3ms/step - loss: 0.8750 - lr: 1.0000e-04\n",
            "Epoch 87/200\n",
            "6/6 [==============================] - 0s 3ms/step - loss: 0.9450 - lr: 1.0000e-04\n",
            "Epoch 88/200\n",
            "6/6 [==============================] - 0s 3ms/step - loss: 0.9388 - lr: 1.0000e-04\n",
            "Epoch 89/200\n",
            "6/6 [==============================] - 0s 3ms/step - loss: 0.8794 - lr: 1.0000e-04\n",
            "Epoch 90/200\n",
            "6/6 [==============================] - 0s 3ms/step - loss: 0.9247 - lr: 1.0000e-04\n",
            "Epoch 91/200\n",
            "6/6 [==============================] - 0s 3ms/step - loss: 0.9208 - lr: 1.0000e-04\n",
            "Epoch 92/200\n",
            "6/6 [==============================] - 0s 3ms/step - loss: 0.8951 - lr: 1.0000e-04\n",
            "Epoch 93/200\n",
            "6/6 [==============================] - 0s 4ms/step - loss: 0.8764 - lr: 1.0000e-04\n",
            "Epoch 94/200\n",
            "6/6 [==============================] - 0s 4ms/step - loss: 0.8710 - lr: 1.0000e-04\n",
            "Epoch 95/200\n",
            "6/6 [==============================] - 0s 3ms/step - loss: 0.8723 - lr: 1.0000e-04\n",
            "Epoch 96/200\n",
            "6/6 [==============================] - 0s 3ms/step - loss: 0.8716 - lr: 1.0000e-04\n",
            "Epoch 97/200\n",
            "6/6 [==============================] - 0s 3ms/step - loss: 0.8724 - lr: 1.0000e-04\n",
            "Epoch 98/200\n",
            "6/6 [==============================] - 0s 3ms/step - loss: 0.8714 - lr: 1.0000e-04\n",
            "Epoch 99/200\n",
            "6/6 [==============================] - 0s 4ms/step - loss: 0.8728 - lr: 1.0000e-04\n",
            "Epoch 100/200\n",
            "6/6 [==============================] - 0s 3ms/step - loss: 0.8813 - lr: 1.0000e-04\n",
            "Epoch 101/200\n",
            "6/6 [==============================] - 0s 3ms/step - loss: 0.8720 - lr: 1.0000e-04\n",
            "Epoch 102/200\n",
            "6/6 [==============================] - 0s 3ms/step - loss: 0.8751 - lr: 1.0000e-04\n",
            "Epoch 103/200\n",
            "6/6 [==============================] - 0s 3ms/step - loss: 0.8771 - lr: 1.0000e-04\n",
            "Epoch 104/200\n",
            "6/6 [==============================] - 0s 3ms/step - loss: 0.8810 - lr: 1.0000e-04\n",
            "Epoch 105/200\n",
            "6/6 [==============================] - 0s 3ms/step - loss: 0.8732 - lr: 1.0000e-04\n",
            "Epoch 106/200\n",
            "6/6 [==============================] - 0s 3ms/step - loss: 0.8891 - lr: 1.0000e-04\n",
            "Epoch 107/200\n",
            "6/6 [==============================] - 0s 3ms/step - loss: 0.8866 - lr: 1.0000e-04\n",
            "Epoch 108/200\n",
            "6/6 [==============================] - 0s 3ms/step - loss: 0.8762 - lr: 1.0000e-04\n",
            "Epoch 109/200\n",
            "6/6 [==============================] - 0s 3ms/step - loss: 0.8835 - lr: 1.0000e-04\n",
            "Epoch 110/200\n",
            "6/6 [==============================] - 0s 3ms/step - loss: 0.8716 - lr: 1.0000e-04\n",
            "Epoch 111/200\n",
            "6/6 [==============================] - 0s 3ms/step - loss: 0.8751 - lr: 1.0000e-04\n",
            "Epoch 112/200\n",
            "6/6 [==============================] - 0s 3ms/step - loss: 0.8770 - lr: 1.0000e-04\n",
            "Epoch 113/200\n",
            "6/6 [==============================] - 0s 3ms/step - loss: 0.8759 - lr: 1.0000e-04\n",
            "Epoch 114/200\n",
            "6/6 [==============================] - 0s 3ms/step - loss: 0.8751 - lr: 1.0000e-04\n",
            "Epoch 115/200\n",
            "6/6 [==============================] - 0s 4ms/step - loss: 0.8867 - lr: 1.0000e-04\n",
            "Epoch 116/200\n",
            "6/6 [==============================] - 0s 3ms/step - loss: 0.8936 - lr: 1.0000e-04\n",
            "Epoch 117/200\n",
            "6/6 [==============================] - 0s 3ms/step - loss: 0.8789 - lr: 1.0000e-04\n",
            "Epoch 118/200\n",
            "6/6 [==============================] - 0s 5ms/step - loss: 0.8761 - lr: 1.0000e-04\n",
            "Epoch 119/200\n",
            "6/6 [==============================] - 0s 4ms/step - loss: 0.8857 - lr: 1.0000e-04\n",
            "Epoch 120/200\n",
            "6/6 [==============================] - 0s 5ms/step - loss: 0.8905 - lr: 1.0000e-04\n",
            "Epoch 121/200\n",
            "6/6 [==============================] - 0s 4ms/step - loss: 0.8777 - lr: 1.0000e-04\n",
            "Epoch 122/200\n",
            "6/6 [==============================] - 0s 3ms/step - loss: 0.8733 - lr: 1.0000e-04\n",
            "Epoch 123/200\n",
            "6/6 [==============================] - 0s 3ms/step - loss: 0.8777 - lr: 1.0000e-04\n",
            "Epoch 124/200\n",
            "6/6 [==============================] - 0s 3ms/step - loss: 0.8811 - lr: 1.0000e-04\n",
            "Epoch 125/200\n",
            "6/6 [==============================] - 0s 3ms/step - loss: 0.8725 - lr: 1.0000e-04\n",
            "Epoch 126/200\n",
            "6/6 [==============================] - 0s 3ms/step - loss: 0.8728 - lr: 1.0000e-04\n",
            "Epoch 127/200\n",
            "6/6 [==============================] - 0s 3ms/step - loss: 0.8719 - lr: 1.0000e-04\n",
            "Epoch 128/200\n",
            "6/6 [==============================] - 0s 3ms/step - loss: 0.8719 - lr: 1.0000e-04\n",
            "Epoch 129/200\n",
            "6/6 [==============================] - 0s 3ms/step - loss: 0.8706 - lr: 1.0000e-04\n",
            "Epoch 130/200\n",
            "6/6 [==============================] - 0s 3ms/step - loss: 0.8712 - lr: 1.0000e-04\n",
            "Epoch 131/200\n",
            "6/6 [==============================] - 0s 3ms/step - loss: 0.8722 - lr: 1.0000e-04\n",
            "Epoch 132/200\n",
            "6/6 [==============================] - 0s 3ms/step - loss: 0.8714 - lr: 1.0000e-04\n",
            "Epoch 133/200\n",
            "6/6 [==============================] - 0s 3ms/step - loss: 0.8722 - lr: 1.0000e-04\n",
            "Epoch 134/200\n",
            "6/6 [==============================] - 0s 3ms/step - loss: 0.8760 - lr: 1.0000e-04\n",
            "Epoch 135/200\n",
            "6/6 [==============================] - 0s 3ms/step - loss: 0.8766 - lr: 1.0000e-04\n",
            "Epoch 136/200\n",
            "6/6 [==============================] - 0s 4ms/step - loss: 0.8733 - lr: 1.0000e-04\n",
            "Epoch 137/200\n",
            "6/6 [==============================] - 0s 3ms/step - loss: 0.8720 - lr: 1.0000e-04\n",
            "Epoch 138/200\n",
            "6/6 [==============================] - 0s 3ms/step - loss: 0.8734 - lr: 1.0000e-04\n",
            "Epoch 139/200\n",
            "6/6 [==============================] - 0s 3ms/step - loss: 0.8752 - lr: 1.0000e-04\n",
            "Epoch 140/200\n",
            "6/6 [==============================] - 0s 3ms/step - loss: 0.8765 - lr: 1.0000e-04\n",
            "Epoch 141/200\n",
            "6/6 [==============================] - 0s 3ms/step - loss: 0.9023 - lr: 1.0000e-04\n",
            "Epoch 142/200\n",
            "6/6 [==============================] - 0s 3ms/step - loss: 0.8894 - lr: 1.0000e-04\n",
            "Epoch 143/200\n",
            "6/6 [==============================] - 0s 3ms/step - loss: 0.8725 - lr: 1.0000e-04\n",
            "Epoch 144/200\n",
            "6/6 [==============================] - 0s 4ms/step - loss: 0.8711 - lr: 1.0000e-04\n",
            "Epoch 145/200\n",
            "6/6 [==============================] - 0s 3ms/step - loss: 0.8729 - lr: 1.0000e-04\n",
            "Epoch 146/200\n",
            "6/6 [==============================] - 0s 3ms/step - loss: 0.8770 - lr: 1.0000e-04\n",
            "Epoch 147/200\n",
            "6/6 [==============================] - 0s 3ms/step - loss: 0.8796 - lr: 1.0000e-04\n",
            "Epoch 148/200\n",
            "6/6 [==============================] - 0s 3ms/step - loss: 0.8828 - lr: 1.0000e-04\n",
            "Epoch 149/200\n",
            "6/6 [==============================] - 0s 3ms/step - loss: 0.8753 - lr: 1.0000e-04\n",
            "Epoch 150/200\n",
            "6/6 [==============================] - 0s 3ms/step - loss: 0.8758 - lr: 1.0000e-04\n",
            "Epoch 151/200\n",
            "6/6 [==============================] - 0s 3ms/step - loss: 0.8791 - lr: 1.0000e-04\n",
            "Epoch 152/200\n",
            "6/6 [==============================] - 0s 4ms/step - loss: 0.8766 - lr: 1.0000e-04\n",
            "Epoch 153/200\n",
            "6/6 [==============================] - 0s 4ms/step - loss: 0.8746 - lr: 1.0000e-04\n",
            "Epoch 154/200\n",
            "6/6 [==============================] - 0s 3ms/step - loss: 0.8733 - lr: 1.0000e-04\n",
            "Epoch 155/200\n",
            "6/6 [==============================] - 0s 3ms/step - loss: 0.8712 - lr: 1.0000e-04\n",
            "Epoch 156/200\n",
            "6/6 [==============================] - 0s 3ms/step - loss: 0.8720 - lr: 1.0000e-04\n",
            "Epoch 157/200\n",
            "6/6 [==============================] - 0s 3ms/step - loss: 0.8725 - lr: 1.0000e-04\n",
            "Epoch 158/200\n",
            "6/6 [==============================] - 0s 3ms/step - loss: 0.8735 - lr: 1.0000e-04\n",
            "Epoch 159/200\n",
            "6/6 [==============================] - 0s 3ms/step - loss: 0.8736 - lr: 1.0000e-04\n",
            "Epoch 160/200\n",
            "6/6 [==============================] - 0s 3ms/step - loss: 0.9084 - lr: 1.0000e-04\n",
            "Epoch 161/200\n",
            "6/6 [==============================] - 0s 3ms/step - loss: 0.9424 - lr: 1.0000e-04\n",
            "Epoch 162/200\n",
            "6/6 [==============================] - 0s 4ms/step - loss: 0.8650 - lr: 1.0000e-04\n",
            "Epoch 163/200\n",
            "6/6 [==============================] - 0s 3ms/step - loss: 0.9234 - lr: 1.0000e-04\n",
            "Epoch 164/200\n",
            "6/6 [==============================] - 0s 3ms/step - loss: 0.8986 - lr: 1.0000e-04\n",
            "Epoch 165/200\n",
            "6/6 [==============================] - 0s 3ms/step - loss: 0.8782 - lr: 1.0000e-04\n",
            "Epoch 166/200\n",
            "6/6 [==============================] - 0s 3ms/step - loss: 0.8907 - lr: 1.0000e-04\n",
            "Epoch 167/200\n",
            "6/6 [==============================] - 0s 3ms/step - loss: 0.8830 - lr: 1.0000e-04\n",
            "Epoch 168/200\n",
            "6/6 [==============================] - 0s 4ms/step - loss: 0.9097 - lr: 1.0000e-04\n",
            "Epoch 169/200\n",
            "6/6 [==============================] - 0s 3ms/step - loss: 0.8766 - lr: 1.0000e-04\n",
            "Epoch 170/200\n",
            "6/6 [==============================] - 0s 4ms/step - loss: 0.9925 - lr: 1.0000e-04\n",
            "Epoch 171/200\n",
            "6/6 [==============================] - 0s 3ms/step - loss: 0.8998 - lr: 1.0000e-04\n",
            "Epoch 172/200\n",
            "6/6 [==============================] - 0s 3ms/step - loss: 0.9400 - lr: 1.0000e-04\n",
            "Epoch 173/200\n",
            "6/6 [==============================] - 0s 3ms/step - loss: 0.9596 - lr: 1.0000e-04\n",
            "Epoch 174/200\n",
            "6/6 [==============================] - 0s 3ms/step - loss: 0.8753 - lr: 1.0000e-04\n",
            "Epoch 175/200\n",
            "6/6 [==============================] - 0s 3ms/step - loss: 0.8865 - lr: 1.0000e-04\n",
            "Epoch 176/200\n",
            "6/6 [==============================] - 0s 3ms/step - loss: 0.8847 - lr: 1.0000e-04\n",
            "Epoch 177/200\n",
            "6/6 [==============================] - 0s 4ms/step - loss: 0.8725 - lr: 1.0000e-04\n",
            "Epoch 178/200\n",
            "6/6 [==============================] - 0s 3ms/step - loss: 0.8728 - lr: 1.0000e-04\n",
            "Epoch 179/200\n",
            "6/6 [==============================] - 0s 3ms/step - loss: 0.8734 - lr: 1.0000e-04\n",
            "Epoch 180/200\n",
            "6/6 [==============================] - 0s 3ms/step - loss: 0.8713 - lr: 1.0000e-04\n",
            "Epoch 181/200\n",
            "6/6 [==============================] - 0s 3ms/step - loss: 0.8782 - lr: 1.0000e-04\n",
            "Epoch 182/200\n",
            "6/6 [==============================] - 0s 3ms/step - loss: 0.8744 - lr: 1.0000e-04\n",
            "Epoch 183/200\n",
            "6/6 [==============================] - 0s 3ms/step - loss: 0.8811 - lr: 1.0000e-04\n",
            "Epoch 184/200\n",
            "6/6 [==============================] - 0s 3ms/step - loss: 0.8889 - lr: 1.0000e-04\n",
            "Epoch 185/200\n",
            "6/6 [==============================] - 0s 3ms/step - loss: 0.8702 - lr: 1.0000e-04\n",
            "Epoch 186/200\n",
            "6/6 [==============================] - 0s 4ms/step - loss: 0.8788 - lr: 1.0000e-04\n",
            "Epoch 187/200\n",
            "6/6 [==============================] - 0s 3ms/step - loss: 0.8745 - lr: 1.0000e-04\n",
            "Epoch 188/200\n",
            "6/6 [==============================] - 0s 5ms/step - loss: 0.8732 - lr: 1.0000e-04\n",
            "Epoch 189/200\n",
            "6/6 [==============================] - 0s 3ms/step - loss: 0.8834 - lr: 1.0000e-04\n",
            "Epoch 190/200\n",
            "6/6 [==============================] - 0s 4ms/step - loss: 0.9181 - lr: 1.0000e-04\n",
            "Epoch 191/200\n",
            "6/6 [==============================] - 0s 3ms/step - loss: 0.8832 - lr: 1.0000e-04\n",
            "Epoch 192/200\n",
            "6/6 [==============================] - 0s 3ms/step - loss: 0.8734 - lr: 1.0000e-04\n",
            "Epoch 193/200\n",
            "6/6 [==============================] - 0s 3ms/step - loss: 0.8736 - lr: 1.0000e-04\n",
            "Epoch 194/200\n",
            "6/6 [==============================] - 0s 3ms/step - loss: 0.8842 - lr: 1.0000e-04\n",
            "Epoch 195/200\n",
            "6/6 [==============================] - 0s 4ms/step - loss: 0.8807 - lr: 1.0000e-04\n",
            "Epoch 196/200\n",
            "6/6 [==============================] - 0s 3ms/step - loss: 0.8757 - lr: 1.0000e-04\n",
            "Epoch 197/200\n",
            "6/6 [==============================] - 0s 3ms/step - loss: 0.8746 - lr: 1.0000e-04\n",
            "Epoch 198/200\n",
            "6/6 [==============================] - 0s 4ms/step - loss: 0.8775 - lr: 1.0000e-04\n",
            "Epoch 199/200\n",
            "6/6 [==============================] - 0s 4ms/step - loss: 0.8764 - lr: 1.0000e-04\n",
            "Epoch 200/200\n",
            "6/6 [==============================] - 0s 4ms/step - loss: 0.8704 - lr: 1.0000e-04\n"
          ]
        }
      ]
    },
    {
      "cell_type": "code",
      "source": [
        "plt.plot(r.history['loss'], label = 'loss')\n",
        "plt.legend()"
      ],
      "metadata": {
        "colab": {
          "base_uri": "https://localhost:8080/",
          "height": 282
        },
        "id": "WjzpCkFNs5qc",
        "outputId": "634a51aa-82f5-4f94-db52-a0355df72340"
      },
      "execution_count": 18,
      "outputs": [
        {
          "output_type": "execute_result",
          "data": {
            "text/plain": [
              "<matplotlib.legend.Legend at 0x7ff17c74cb80>"
            ]
          },
          "metadata": {},
          "execution_count": 18
        },
        {
          "output_type": "display_data",
          "data": {
            "text/plain": [
              "<Figure size 432x288 with 1 Axes>"
            ],
            "image/png": "[encoded data removed]"
          },
          "metadata": {
            "needs_background": "light"
          }
        }
      ]
    },
    {
      "cell_type": "code",
      "source": [
        "model.layers"
      ],
      "metadata": {
        "colab": {
          "base_uri": "https://localhost:8080/"
        },
        "id": "ANjMdquetbzG",
        "outputId": "3952c2cc-3e52-4fa5-aed9-61980c8cd447"
      },
      "execution_count": 19,
      "outputs": [
        {
          "output_type": "execute_result",
          "data": {
            "text/plain": [
              "[<keras.layers.core.dense.Dense at 0x7ff19002b430>]"
            ]
          },
          "metadata": {},
          "execution_count": 19
        }
      ]
    },
    {
      "cell_type": "code",
      "source": [
        "model.layers[0].get_weights()"
      ],
      "metadata": {
        "colab": {
          "base_uri": "https://localhost:8080/"
        },
        "id": "a57Wqqw4tnJr",
        "outputId": "1d2220d7-2d38-4fd5-dd34-b0775909787b"
      },
      "execution_count": 20,
      "outputs": [
        {
          "output_type": "execute_result",
          "data": {
            "text/plain": [
              "[array([[0.3475026]], dtype=float32), array([17.762022], dtype=float32)]"
            ]
          },
          "metadata": {},
          "execution_count": 20
        }
      ]
    },
    {
      "cell_type": "code",
      "source": [
        "a=model.layers[0].get_weights()[0][0,0]"
      ],
      "metadata": {
        "id": "ufIU0IyAt3Yr"
      },
      "execution_count": 21,
      "outputs": []
    },
    {
      "cell_type": "code",
      "source": [
        "a"
      ],
      "metadata": {
        "colab": {
          "base_uri": "https://localhost:8080/"
        },
        "id": "UKov3IaPuHXh",
        "outputId": "d8579aa1-3d19-4b54-f1bc-2dadba306a75"
      },
      "execution_count": 22,
      "outputs": [
        {
          "output_type": "execute_result",
          "data": {
            "text/plain": [
              "0.3475026"
            ]
          },
          "metadata": {},
          "execution_count": 22
        }
      ]
    },
    {
      "cell_type": "code",
      "source": [
        "print(\"Time to double:\", np.log(2)/a)"
      ],
      "metadata": {
        "colab": {
          "base_uri": "https://localhost:8080/"
        },
        "id": "2cVPTqywY-2M",
        "outputId": "abfa7a1a-c980-4229-977d-a18e0ea91c78"
      },
      "execution_count": 23,
      "outputs": [
        {
          "output_type": "stream",
          "name": "stdout",
          "text": [
            "Time to double: 1.994653283315867\n"
          ]
        }
      ]
    },
    {
      "cell_type": "code",
      "source": [
        "x = x.flatten()\n",
        "deminator  = x.dot(x)-x.mean()*x.sum()\n",
        "a= (x.dot(y)-y.mean()*x.sum())/deminator\n",
        "b= (y.mean()*x.dot(x)-x.mean()*x.dot(y))/deminator\n",
        "\n",
        "print(a,b)"
      ],
      "metadata": {
        "colab": {
          "base_uri": "https://localhost:8080/"
        },
        "id": "0IMNLOWljp_f",
        "outputId": "dd47948c-5fba-4875-ca04-fc76808316ea"
      },
      "execution_count": 24,
      "outputs": [
        {
          "output_type": "stream",
          "name": "stdout",
          "text": [
            "0.341682487387313 17.764939393631764\n"
          ]
        }
      ]
    },
    {
      "cell_type": "code",
      "source": [
        "print(\"Time to double:\", np.log(2)/a)"
      ],
      "metadata": {
        "colab": {
          "base_uri": "https://localhost:8080/"
        },
        "id": "YeLewV81mP2o",
        "outputId": "94243ed5-e2a4-435b-864b-5cf62b76b58d"
      },
      "execution_count": 25,
      "outputs": [
        {
          "output_type": "stream",
          "name": "stdout",
          "text": [
            "Time to double: 2.0286295205239204\n"
          ]
        }
      ]
    }
  ]
}